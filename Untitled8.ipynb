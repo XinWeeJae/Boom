{
  "nbformat": 4,
  "nbformat_minor": 0,
  "metadata": {
    "colab": {
      "name": "Untitled8.ipynb",
      "provenance": [],
      "authorship_tag": "ABX9TyN+SKbOcPcBEqr0hl2Zd7Rn",
      "include_colab_link": true
    },
    "kernelspec": {
      "name": "python3",
      "display_name": "Python 3"
    },
    "language_info": {
      "name": "python"
    }
  },
  "cells": [
    {
      "cell_type": "markdown",
      "metadata": {
        "id": "view-in-github",
        "colab_type": "text"
      },
      "source": [
        "<a href=\"https://colab.research.google.com/github/XinWeeJae/Boom/blob/main/Untitled8.ipynb\" target=\"_parent\"><img src=\"https://colab.research.google.com/assets/colab-badge.svg\" alt=\"Open In Colab\"/></a>"
      ]
    },
    {
      "cell_type": "code",
      "execution_count": null,
      "metadata": {
        "id": "YspJO7YUOKDo",
        "colab": {
          "base_uri": "https://localhost:8080/"
        },
        "outputId": "fa5afef1-c266-406f-9498-7b3fe81c8249"
      },
      "outputs": [
        {
          "output_type": "stream",
          "name": "stdout",
          "text": [
            "3 5 7\n",
            "2\n"
          ]
        }
      ],
      "source": [
        "# 7단계 1번째 1712번\n",
        "\n",
        "# 손쉽다 A는 연간(고정)비용 B는 1대당 생산비용 C는 1대당 판매 비용\n",
        "# 그러면 x대수가 팔렸다고 하면 if C*x >= B*x  +  A 인 상황이 손익분기점이 나오는 판매 대수이겠다\n",
        "# 훨씬 편한 방법이 있었다\n",
        "# 그냥 B와 C의 관계를 보면 쉽다\n",
        "# 만드는게 버는 것보다 비싸면 손익이 없을 것이다\n",
        "# 버는 것 - 만드는 것 하면 순수익량이 나오고 그걸로 고정비용을 나누면 되는 거였다\n",
        "# 문제 1. 뭔가를 곱해야한다는 방식으로 어렵게 생각합\n",
        "# 문제 2. 문제를 제대로 이해하지 않고 풀려고 접근함\n",
        "\n",
        "A, B, C = map(int, input().split())\n",
        "\n",
        "if B >= C:\n",
        "    print(-1)\n",
        "else:\n",
        "    print(A//(C - B) +1)\n",
        "        "
      ]
    },
    {
      "cell_type": "code",
      "source": [
        "# 7단계 2번째 2292번\n",
        "\n",
        "# 창의적인 문제같았다 그러나 규칙을 알고보면 별거 없을 것 같다는 생각이 들었다(오븐 시간과 유사)\n",
        "# 1 2~7 8~19, 20~37, 38~61 1의 오른쪽 아래로 보면 계속 아래로 내려가는(1칸 추가되는) 구간이 생긴다\n",
        "# 통과하는 방의 갯수는 1은 1칸, 2에서 7까지는 2칸, 8~19까지는 3칸, 20에서 37까지는 4칸이다\n",
        "# \n",
        "\n",
        "# 이해가 안간다 도저히 모르겠다"
      ],
      "metadata": {
        "id": "05bwC_GD_7CX",
        "colab": {
          "base_uri": "https://localhost:8080/"
        },
        "outputId": "20e4347c-1e26-4dcb-a9a8-89bbb61d24ec"
      },
      "execution_count": null,
      "outputs": [
        {
          "output_type": "stream",
          "name": "stdout",
          "text": [
            "1\n",
            "1\n"
          ]
        }
      ]
    },
    {
      "cell_type": "code",
      "source": [
        "#7단계 3번째 1193번 분수찾기 \n",
        "\n",
        "# 문제 이해가 쉽지 않았다 의외로 간단한 것 같은 것을 코드로 말할 수 있느냐를 묻는 것 같았다\n",
        "\n",
        "# input data를 넣었다\n",
        "X=int(input())\n",
        "\n",
        "# 한계가 없는 무언가를 반복해서 만들어내야 하기에 while이 맞다고 직감했다\n",
        "# 계속적인 파라미터로 주입되는 것은 line으로 놓고 진행한다\n",
        "\n",
        "# Part 1. line을 뽑는 반복문을 이해하자\n",
        "line=1\n",
        "while X>line:\n",
        "    X-=line\n",
        "    line+=1\n",
        "# 1이면 x = 1 line = 1 끝\n",
        "# 2면 x = 1   line = 2 끝\n",
        "# 3이면 x = 2 line = 2 끝\n",
        "# 4면 x = 3   line = 2 다음은 x = 1 line = 3 끝\n",
        "# 5면 x = 4   line = 2 다음은 x = 2 line = 3 끝\n",
        "# 6이면 x = 5 line = 2 다음은 x = 3 line = 3 끝\n",
        "# 7이면 x = 6 line = 2 다음은 x = 4 line = 3 다음은 x = 1 line = 4 끝\n",
        "\n",
        "# 저 4줄로 몇번째 line인지 뽑는 코드가 됐다\n",
        "# 나도 갑자기 떠올리리라면 저 간단하고 깊은 식을 구현하기 쉽지 않겠다 싶다\n",
        "\n",
        "# Part 2. 짝수일 때 홀수일 때를 나눠 답을 내보자\n",
        "if line%2==0:\n",
        "    a=X\n",
        "    b=line-X+1\n",
        "# 2이면 x = 1 line = 2가 마지막 1/2-1+1 = 1/2\n",
        "# 4이면 x = 1 line = 3이 마지막 1/3-1+1 = 1/3\n",
        "# 6이면 x = 3 line = 3이 마지막 3/3-3+1 = 3/1\n",
        "else:\n",
        "    a=line-X+1\n",
        "    b=X\n",
        "# 1이면 x = 1 line = 1이 마지막 1-1+1/1 = 1/1\n",
        "# 3이면 x = 1 line = 3이 마지막 3-1+1/1 = 3/1\n",
        "# 5이면 x = 2 line = 3이 마지막 3-2+1/2 = 2/2\n",
        "# 7이면 x = 1 line = 4이 마지막 4-1+1/1 = 4/1\n",
        "\n",
        "print(a, '/', b, sep='')\n",
        "\n",
        "\n",
        "# 오답노트가 아닌, 응용이 가능한 상태를 갖기 위해 정답을 구하기 위한 원리를 깊게 파악하고 싶었으나,\n",
        "# 결과만 되짚기 했지 응용가능한 원리 이해는 하지 못했다\n",
        "# 왠지 모르게 현재 단계에서는 그게 쉽지가 않다 2시간 째 고민했지만 오늘의 사이킷런도 이해가 안된 상태라 skip한다\n",
        "# 시간 엄청 투자했는데 아무것도 못얻는 느낌이 토나오니까 정리해보면\n",
        "# Part 1\n",
        "# 1.while인건 직감했고 2.line이라는 변수를 넣어야 함을 깨닳아야 하고 3.line을 변수화 하고\n",
        "# 4.X와 line을 빼고 1씩 더한다는 생각을 while 반복문과 함께 해야하는데 이거는 논리구조를 따라 이해하며 나아가기보단, \n",
        "# 어쨋든 주어진 변수가 저것밖에 없으니, 정말 답답하겠지만 서로 더하고 빼보며 그림과 맞나 하면서 맞춰가야 하는 것 같다\n",
        "# Part 2\n",
        "# 1.우선 짝수홀수로 조건을 나눠야겠구나 깨우쳐야겠고 2.거기에 따라서 또 서로 더하고 빼보며 \n",
        "# 어떤 걸 분자로 넣지 분모로 넣지를 노가다로 맞춰나가야 할 것 같다\n",
        "# 결국, 주어진 변수와 알 수 있는 조건정도를 최대한으로 찾고 그림과 결과예시에 노가다로 끼워맞추고\n",
        "# 코딩테스트를 본다면, 4문제정도인가 나온다던데 2문제정도만 맞아도 된다더라 가장 괜찮은 문제를 골라서 집중적으로 노가다해야겠다 싶다\n",
        "# 답을 보고 논리를 찾으려 했지만 문제를 푸는 것도 아니고 답보고 푸는건데도 이번 수학적 논리파트는 잘 안되더라\n",
        "# 자전거타는 균형찾는 능력을 후천적으로 배우듯 뭔가의 논리적으로 코딩을 생각하는 후천적인 논리근육이 필요해보였다"
      ],
      "metadata": {
        "id": "28DET2CX-eIt",
        "colab": {
          "base_uri": "https://localhost:8080/"
        },
        "outputId": "9027b325-2629-45bd-b863-bbcd0e27d05e"
      },
      "execution_count": null,
      "outputs": [
        {
          "output_type": "stream",
          "name": "stdout",
          "text": [
            "1\n",
            "1/1\n"
          ]
        }
      ]
    },
    {
      "cell_type": "code",
      "source": [
        "# 7단계 4번째 2869번 달팽이는 올라가고 싶다\n",
        "\n",
        "# A만큼 올라가고, B미터 떨어지는 불쌍한 달팽이가 V미터를 얼마만에 오를 수 있냐는 것이다\n",
        "# (A-B) * Day >= V 이런 식이 바로 떠오르는데,\n",
        "# 그니까 올라가는 양에 떨어지는 양을 빼면 순수익처럼 순 올라가는 양이 나올텐데\n",
        "# 그것만 하면 되는 것 아닌가 싶다\n",
        "# 근데 과격하게 예를들어서 1000000만큼 올라가는데 99999999만큼 떨어지는 달팽이면\n",
        "# 순 올라가는 양은 1밖에 없지만, 순 올라가는 양보다 한 번 올라가는 양이 커서 등산 완료했는데\n",
        "# 찍혀있을까봐 그래서 문제가 되는 것 같긴 하다\n",
        "\n",
        "A, B, V = map(int, input().split())\n",
        "day = []\n",
        "if (A-B) * day >= V \n",
        "\n",
        "# 우선 대충 적어보고 바로 답을 봤다\n",
        "# 놀란 점은 while문을 완벽하게 사용해도 시간초과로 실패를 띄운다는 점이었다\n",
        "# 아예 다르게 가야한다\n",
        "\n",
        "import sys # 속도를 위한 import\n",
        "import math # 올림을 위한 math\n",
        "a, b, v = map(int, sys.stdin.readline().split()) # 속도를 위해 readline으로 import 받고\n",
        "day = (v-b) / (a-b) # 총 올라가야하는 거리 - 떨어지는 거리 / 올라가는 거리 - 떨어지는 거리\n",
        "# 이걸로 하면 몇일이 걸리는 지 나온단다 신기하게 맞아 떨어진다... 이런 수식 구하는게 정말 미칠노릇이다\n",
        "# 100 - 99 / 100-99 = 1 100-1 / 2-1\n",
        "print(math.ceil(day)) # 그걸 올리는 함수를 통해 올려서 프린트하면 된다고 한다..."
      ],
      "metadata": {
        "id": "XNAcfiHdVHBV",
        "outputId": "c377113e-6e33-4ade-d9dd-b70288b61846",
        "colab": {
          "base_uri": "https://localhost:8080/"
        }
      },
      "execution_count": 2,
      "outputs": [
        {
          "output_type": "stream",
          "name": "stdout",
          "text": [
            "1 3 4\n",
            "1 3 4\n"
          ]
        }
      ]
    },
    {
      "cell_type": "code",
      "source": [
        "# 7단계 5번째 10250번 ACM호텔\n",
        "\n",
        "# 이건 처음에 글을 읽을 때 너무 길어서 겁을 지레 먹었지만,\n",
        "# 다행히 겁값으로 더 손쉬운 문제를 준 것처럼 느껴졌다\n",
        "# 쉽게 말하면 숫자 3개 던져주는데\n",
        "# 호텔 갯수(테스트수) 세로(층수) 가로(호수) 던져주고 수식에 맞는 결과값 달라는 것이다\n",
        "# 글로 표현하기 힘들지만 쉽다 왼쪽바닥부터 왼쪽 위로 올라가고 천장에 닿으면\n",
        "# 다음 오른쪽 바닥부터 진행하며 그걸 10층짜리 3개 호수가 있는 30호수짜리 호텔이면\n",
        "# 10번째 고객은 어디서 묵냐고 하면 1001호 하면 되고 20번째면 2001호 뱉으면 되는 문제이다\n",
        "t = int(input()) # 테스트수 입력받고\n",
        "\n",
        "for i in range(t): # 돌린다\n",
        "    h, w, n = map(int, input().split()) # 가로세로횟수 입력받고\n",
        "    num = n//h + 1 # 몇호인지 구하는 식은 세로가 얼마나 count됐는지 횟수에 세로를 나눠서 구하고\n",
        "    floor = n % h # 층수는 나눈 나머지가 되겠다 이 IQ테스트하는 듯한 느낌이 신기할 따름이다\n",
        "    if n % h == 0:  # 만약에 n이랑 h이랑 배수라면 그니까 10층짜리에 10번째를 때려버리면\n",
        "        num = n//h # # 호수에 1을 더할 필요가 없지\n",
        "        floor = h # 층수도 위에 식으로 가면 0나오는데 그러면 안되니까 그대로 h넣고\n",
        "    print(f'{floor*100+num}') #층수랑 호수를 알맞게 뽑아내면 된다"
      ],
      "metadata": {
        "id": "W64AzLq_IRH0"
      },
      "execution_count": null,
      "outputs": []
    },
    {
      "cell_type": "code",
      "source": [
        "# 7단계 6번째 2775번 부녀회장이 될 테야\n",
        "\n",
        "# 이거 어디에 저장해놨었는데 그대로 날라갔다\n",
        "# 2~3시간 정도 될 것 같아서 고민하다가 그대로 배끼고 또 IQ가 딸려서 안되는 듯한 느낌의\n",
        "# 간단하고 온전히 이해는 안가지만 결론은 도출되는 수식으로 찝찝한 마무리를 지었었다\n",
        "# 이번엔 답을 그대로 가져와본다\u0003\n",
        "\n",
        "\n",
        "t = int(input())\n",
        "\n",
        "for _ in range(t):  \n",
        "    floor = int(input())  # 층\n",
        "    num = int(input())  # 호\n",
        "    f0 = [x for x in range(1, num+1)]  # 0층 리스트\n",
        "    for k in range(floor):  # 층 수 만큼 반복\n",
        "        for i in range(1, num):  # 1 ~ n-1까지 (인덱스로 사용)\n",
        "            f0[i] += f0[i-1]  # 층별 각 호실의 사람 수를 변경\n",
        "    print(f0[-1])  # 가장 마지막 수 출력"
      ],
      "metadata": {
        "id": "YDLjQyMMVFB-"
      },
      "execution_count": null,
      "outputs": []
    },
    {
      "cell_type": "code",
      "source": [
        "# 7단계 7번째 2839번 설탕 배달\n",
        "\n",
        "# 이거 저번에 컴퓨터 시간복잡도 배우던 카카오뱅크 다니는 패캠 강사님이랑 같이 풀었던 문제다\n",
        "# 상근이가 N Kg을 배달하는데 N//5의 몫은 전부 5로 배달하고 나머지만 3으로 배달한다는 것이다\n",
        "# 몇 번 배달하는지 알아맞추면 된다\n",
        "# 그러나 5나 3의 덧셈의 배수가 안나오면 4같은 게 나오면 -1로 때려버리라고 한다\n",
        "\n",
        "sugar = int(input()) # 몇킬로인지 받고\n",
        "\n",
        "bag = 0 # 횟수 일단은 0으로 넣어놓고\n",
        "while sugar >= 0 : # 설탕이 0보다 넘으면 시작한다\n",
        "    if sugar % 5 == 0 :  # 5의 배수이면\n",
        "        bag += (sugar // 5)  # 5로 나눈 몫으로 우선 첫단계 가방을 채우고\n",
        "        print(bag) # 뽑고 while은 멈춘다\n",
        "        break\n",
        "    sugar -= 3  # 5의 배수가 아니라면 설탕을 3씩 빼고\n",
        "    bag += 1  # 5의 배수가 될 때까지 설탕-3, 봉지+1로 3Kg봉투로만 일할 때를 만들어줬다\n",
        "else :\n",
        "    print(-1) # 아니라면 위에서 말한대로 -1을 뽑고 마무리한다\n"
      ],
      "metadata": {
        "id": "XusD2ny-V0G8"
      },
      "execution_count": null,
      "outputs": []
    },
    {
      "cell_type": "code",
      "source": [
        "# 7단계 8번째 10575번 큰 수 A+B\n",
        "\n",
        "# 항상 이런 식의 문제는 이해가 쉽지 않았던 것 같다 더 각오하고 뛰어들어보자\n",
        "# 뭐지??...\n",
        "import sys\n",
        "a, b = map(int, sys.stdin.readline().split())\n",
        "print(a+b)\n",
        "# 위에서 배운대로 하니까 풀었다... 이번 단계별에서 처음으로 풀었다"
      ],
      "metadata": {
        "id": "H2r3zOp_YEac"
      },
      "execution_count": null,
      "outputs": []
    }
  ]
}