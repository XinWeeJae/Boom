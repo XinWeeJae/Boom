{
  "nbformat": 4,
  "nbformat_minor": 0,
  "metadata": {
    "colab": {
      "name": "Untitled8.ipynb",
      "provenance": [],
      "authorship_tag": "ABX9TyNfQwtY12KIUIif+QZ/fqaW",
      "include_colab_link": true
    },
    "kernelspec": {
      "name": "python3",
      "display_name": "Python 3"
    },
    "language_info": {
      "name": "python"
    }
  },
  "cells": [
    {
      "cell_type": "markdown",
      "metadata": {
        "id": "view-in-github",
        "colab_type": "text"
      },
      "source": [
        "<a href=\"https://colab.research.google.com/github/XinWeeJae/Boom/blob/main/Untitled8.ipynb\" target=\"_parent\"><img src=\"https://colab.research.google.com/assets/colab-badge.svg\" alt=\"Open In Colab\"/></a>"
      ]
    },
    {
      "cell_type": "code",
      "execution_count": null,
      "metadata": {
        "id": "YspJO7YUOKDo",
        "colab": {
          "base_uri": "https://localhost:8080/"
        },
        "outputId": "fa5afef1-c266-406f-9498-7b3fe81c8249"
      },
      "outputs": [
        {
          "output_type": "stream",
          "name": "stdout",
          "text": [
            "3 5 7\n",
            "2\n"
          ]
        }
      ],
      "source": [
        "# 7단계 1번째 1712번\n",
        "\n",
        "# 손쉽다 A는 연간(고정)비용 B는 1대당 생산비용 C는 1대당 판매 비용\n",
        "# 그러면 x대수가 팔렸다고 하면 if C*x >= B*x  +  A 인 상황이 손익분기점이 나오는 판매 대수이겠다\n",
        "# 훨씬 편한 방법이 있었다\n",
        "# 그냥 B와 C의 관계를 보면 쉽다\n",
        "# 만드는게 버는 것보다 비싸면 손익이 없을 것이다\n",
        "# 버는 것 - 만드는 것 하면 순수익량이 나오고 그걸로 고정비용을 나누면 되는 거였다\n",
        "# 문제 1. 뭔가를 곱해야한다는 방식으로 어렵게 생각합\n",
        "# 문제 2. 문제를 제대로 이해하지 않고 풀려고 접근함\n",
        "\n",
        "A, B, C = map(int, input().split())\n",
        "\n",
        "if B >= C:\n",
        "    print(-1)\n",
        "else:\n",
        "    print(A//(C - B) +1)\n",
        "        "
      ]
    },
    {
      "cell_type": "code",
      "source": [
        "# 7단계 2번째 2292번\n",
        "\n",
        "# 창의적인 문제같았다 그러나 규칙을 알고보면 별거 없을 것 같다는 생각이 들었다(오븐 시간과 유사)\n",
        "# 1 2~7 8~19, 20~37, 38~61 1의 오른쪽 아래로 보면 계속 아래로 내려가는(1칸 추가되는) 구간이 생긴다\n",
        "# 통과하는 방의 갯수는 1은 1칸, 2에서 7까지는 2칸, 8~19까지는 3칸, 20에서 37까지는 4칸이다\n",
        "# \n",
        "\n",
        "# 이해가 안간다 도저히 모르겠다"
      ],
      "metadata": {
        "id": "05bwC_GD_7CX",
        "colab": {
          "base_uri": "https://localhost:8080/"
        },
        "outputId": "20e4347c-1e26-4dcb-a9a8-89bbb61d24ec"
      },
      "execution_count": null,
      "outputs": [
        {
          "output_type": "stream",
          "name": "stdout",
          "text": [
            "1\n",
            "1\n"
          ]
        }
      ]
    },
    {
      "cell_type": "code",
      "source": [
        "#7단계 3번째 1193번 분수찾기 \n",
        "\n",
        "# 문제 이해가 쉽지 않았다 의외로 간단한 것 같은 것을 코드로 말할 수 있느냐를 묻는 것 같았다\n",
        "\n",
        "# input data를 넣었다\n",
        "X=int(input())\n",
        "\n",
        "# 한계가 없는 무언가를 반복해서 만들어내야 하기에 while이 맞다고 직감했다\n",
        "# 계속적인 파라미터로 주입되는 것은 line으로 놓고 진행한다\n",
        "\n",
        "# Part 1. line을 뽑는 반복문을 이해하자\n",
        "line=1\n",
        "while X>line:\n",
        "    X-=line\n",
        "    line+=1\n",
        "# 1이면 x = 1 line = 1 끝\n",
        "# 2면 x = 1   line = 2 끝\n",
        "# 3이면 x = 2 line = 2 끝\n",
        "# 4면 x = 3   line = 2 다음은 x = 1 line = 3 끝\n",
        "# 5면 x = 4   line = 2 다음은 x = 2 line = 3 끝\n",
        "# 6이면 x = 5 line = 2 다음은 x = 3 line = 3 끝\n",
        "# 7이면 x = 6 line = 2 다음은 x = 4 line = 3 다음은 x = 1 line = 4 끝\n",
        "\n",
        "# 저 4줄로 몇번째 line인지 뽑는 코드가 됐다\n",
        "# 나도 갑자기 떠올리리라면 저 간단하고 깊은 식을 구현하기 쉽지 않겠다 싶다\n",
        "\n",
        "# Part 2. 짝수일 때 홀수일 때를 나눠 답을 내보자\n",
        "if line%2==0:\n",
        "    a=X\n",
        "    b=line-X+1\n",
        "# 2이면 x = 1 line = 2가 마지막 1/2-1+1 = 1/2\n",
        "# 4이면 x = 1 line = 3이 마지막 1/3-1+1 = 1/3\n",
        "# 6이면 x = 3 line = 3이 마지막 3/3-3+1 = 3/1\n",
        "else:\n",
        "    a=line-X+1\n",
        "    b=X\n",
        "# 1이면 x = 1 line = 1이 마지막 1-1+1/1 = 1/1\n",
        "# 3이면 x = 1 line = 3이 마지막 3-1+1/1 = 3/1\n",
        "# 5이면 x = 2 line = 3이 마지막 3-2+1/2 = 2/2\n",
        "# 7이면 x = 1 line = 4이 마지막 4-1+1/1 = 4/1\n",
        "\n",
        "print(a, '/', b, sep='')\n",
        "\n",
        "\n",
        "# 오답노트가 아닌, 응용이 가능한 상태를 갖기 위해 정답을 구하기 위한 원리를 깊게 파악하고 싶었으나,\n",
        "# 결과만 되짚기 했지 응용가능한 원리 이해는 하지 못했다\n",
        "# 왠지 모르게 현재 단계에서는 그게 쉽지가 않다 2시간 째 고민했지만 오늘의 사이킷런도 이해가 안된 상태라 skip한다"
      ],
      "metadata": {
        "id": "28DET2CX-eIt",
        "colab": {
          "base_uri": "https://localhost:8080/"
        },
        "outputId": "9027b325-2629-45bd-b863-bbcd0e27d05e"
      },
      "execution_count": 4,
      "outputs": [
        {
          "output_type": "stream",
          "name": "stdout",
          "text": [
            "1\n",
            "1/1\n"
          ]
        }
      ]
    },
    {
      "cell_type": "code",
      "source": [
        ""
      ],
      "metadata": {
        "id": "XNAcfiHdVHBV"
      },
      "execution_count": null,
      "outputs": []
    }
  ]
}