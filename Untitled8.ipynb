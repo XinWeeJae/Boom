{
  "nbformat": 4,
  "nbformat_minor": 0,
  "metadata": {
    "colab": {
      "name": "Untitled8.ipynb",
      "provenance": [],
      "authorship_tag": "ABX9TyP5/CaMR1bMVlCEUsWbpaIn",
      "include_colab_link": true
    },
    "kernelspec": {
      "name": "python3",
      "display_name": "Python 3"
    },
    "language_info": {
      "name": "python"
    }
  },
  "cells": [
    {
      "cell_type": "markdown",
      "metadata": {
        "id": "view-in-github",
        "colab_type": "text"
      },
      "source": [
        "<a href=\"https://colab.research.google.com/github/XinWeeJae/Boom/blob/main/Untitled8.ipynb\" target=\"_parent\"><img src=\"https://colab.research.google.com/assets/colab-badge.svg\" alt=\"Open In Colab\"/></a>"
      ]
    },
    {
      "cell_type": "code",
      "execution_count": 9,
      "metadata": {
        "id": "YspJO7YUOKDo",
        "colab": {
          "base_uri": "https://localhost:8080/"
        },
        "outputId": "fa5afef1-c266-406f-9498-7b3fe81c8249"
      },
      "outputs": [
        {
          "output_type": "stream",
          "name": "stdout",
          "text": [
            "3 5 7\n",
            "2\n"
          ]
        }
      ],
      "source": [
        "# 7단계 1번째 1712번\n",
        "\n",
        "# 손쉽다 A는 연간(고정)비용 B는 1대당 생산비용 C는 1대당 판매 비용\n",
        "# 그러면 x대수가 팔렸다고 하면 if C*x >= B*x  +  A 인 상황이 손익분기점이 나오는 판매 대수이겠다\n",
        "# 훨씬 편한 방법이 있었다\n",
        "# 그냥 B와 C의 관계를 보면 쉽다\n",
        "# 만드는게 버는 것보다 비싸면 손익이 없을 것이다\n",
        "# 버는 것 - 만드는 것 하면 순수익량이 나오고 그걸로 고정비용을 나누면 되는 거였다\n",
        "# 문제 1. 뭔가를 곱해야한다는 방식으로 어렵게 생각합\n",
        "# 문제 2. 문제를 제대로 이해하지 않고 풀려고 접근함\n",
        "\n",
        "A, B, C = map(int, input().split())\n",
        "\n",
        "if B >= C:\n",
        "    print(-1)\n",
        "else:\n",
        "    print(A//(C - B) +1)\n",
        "        "
      ]
    },
    {
      "cell_type": "code",
      "source": [
        ""
      ],
      "metadata": {
        "id": "05bwC_GD_7CX"
      },
      "execution_count": null,
      "outputs": []
    }
  ]
}